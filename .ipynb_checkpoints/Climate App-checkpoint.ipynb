{
 "cells": [
  {
   "cell_type": "code",
   "execution_count": 1,
   "id": "edc5b551",
   "metadata": {},
   "outputs": [],
   "source": [
    "# Step 2 - Climate App\n",
    "# Now that you have completed your initial analysis, design a Flask API based on the queries that you have just developed.\n",
    "\n",
    "\n",
    "from flask import Flask, jsonify\n",
    "\n",
    "app = Flask(__name__)\n"
   ]
  },
  {
   "cell_type": "code",
   "execution_count": 2,
   "id": "565c13d5",
   "metadata": {},
   "outputs": [],
   "source": [
    "# Use Flask to create your routes.\n",
    "# Home page.\n",
    "# List all routes that are available.\n",
    "\n",
    "@app.route(\"/\")\n",
    "def home():\n",
    "    return(\n",
    "        f\"Available Routes:<br/>\"\n",
    "        f\"/api/v1.0/precipitation<br/>\"\n",
    "        f\"/api/v1.0/stations<br/>\"\n",
    "        f\"/api/v1.0/tobs<br/>\"\n",
    "        f\"/api/v1.0/<start><br/>\"\n",
    "        f\"/api/v1.0/<start><end>\"\n",
    "    )"
   ]
  },
  {
   "cell_type": "code",
   "execution_count": 3,
   "id": "7076c39f",
   "metadata": {},
   "outputs": [],
   "source": [
    "# /api/v1.0/precipitation\n",
    "# Convert the query results to a dictionary using date as the key and prcp as the value.\n",
    "# Return the JSON representation of your dictionary.\n",
    "\n",
    "@app.route(\"/api/v1.0/precipitation\")\n",
    "def precipitation():\n",
    "    recent_date = dt.date(2017, 8, 23)\n",
    "    year_ago = recent_date - dt.timedelta(days=365)\n",
    "    \n",
    "    historical_temps = (session.query(Measurement.date, Measurement.prcp).\\\n",
    "                       filter(Measurement.date <= recent_date).\\\n",
    "                       filter(Measurement.date >= year_ago).\\\n",
    "                       order_by(Measurement.date).all())\n",
    "    \n",
    "    precipitation = {date: prcp for date, prcp in past_temp}\n",
    "    return jsonify(precipitation)"
   ]
  },
  {
   "cell_type": "code",
   "execution_count": 4,
   "id": "0942f8fc",
   "metadata": {},
   "outputs": [],
   "source": [
    "# /api/v1.0/stations\n",
    "# Return a JSON list of stations from the dataset.\n",
    "@app.route(\"/api/v1.0/stations\")\n",
    "def stations():\n",
    "    stations_list = session.query(Station.station).all()\n",
    "    return jsonify(stations_list)"
   ]
  },
  {
   "cell_type": "code",
   "execution_count": 5,
   "id": "72a94a2c",
   "metadata": {},
   "outputs": [],
   "source": [
    "# /api/v1.0/tobs\n",
    "# Query the dates and temperature observations of the most active station for the last year of data.\n",
    "# Return a JSON list of temperature observations (TOBS) for the previous year.\n",
    "@app.route(\"/api/v1.0/tobs\")\n",
    "def tobs():\n",
    "   \n",
    "    recent_date = dt.date(2017, 8, 23)\n",
    "    year_ago = recent_date - dt.timedelta(days=365)\n",
    "    \n",
    "    hist_tobs = (session.query(Measurement.tobs).\\\n",
    "                filter(Measurement.station == \"USC00519281\").\\\n",
    "                filter(Measurement.date <= recent_date).\\\n",
    "                filter(Measurement.date >= year_ago).\\\n",
    "                order_by(Measurement.tobs).all())\n",
    "    return jsonify(hist_tobs)"
   ]
  },
  {
   "cell_type": "code",
   "execution_count": 6,
   "id": "d07354c8",
   "metadata": {},
   "outputs": [],
   "source": [
    "# /api/v1.0/<start>\n",
    "# Return a JSON list of the minimum temperature, the average temperature, and the max temperature \n",
    "# for a given start or start-end range.\n",
    "    #     start = (session.query(Measurement.date).order_by(Measurement.date).first())\n",
    "    #     end = (session.query(Measurement.date).order_by(Measurement.date.desc()).first())\n",
    "# When given the start only, calculate TMIN, TAVG, and TMAX for all dates greater than and equal to the start date.\n",
    "# When given the start and the end date, calculate the TMIN, TAVG, and TMAX for dates between the start and end date inclusive.\n",
    "\n",
    "@app.route(\"/api/v1.0/<start>\")\n",
    "def start(start=None):\n",
    "    start = Measurement.date <= \"2010-01-01\"\n",
    "    end = Measurement.date >= \"2017-08-23\"\n",
    "        \n",
    "    tobs_stats = (session.query(Measurement.tobs)\n",
    "                 .filter(Measurement.date))\n",
    "    \n",
    "    "
   ]
  },
  {
   "cell_type": "code",
   "execution_count": null,
   "id": "32152ed9",
   "metadata": {},
   "outputs": [],
   "source": [
    "# /api/v1.0/<start>/<end>\n",
    "# Return a JSON list of the minimum temperature, the average temperature, and the max temperature \n",
    "# for a given start or start-end range.\n",
    "\n",
    "# When given the start only, calculate TMIN, TAVG, and TMAX for all dates greater than and equal to the start date.\n",
    "# When given the start and the end date, calculate the TMIN, TAVG, and TMAX for dates between the start and end date inclusive.\n"
   ]
  },
  {
   "cell_type": "code",
   "execution_count": null,
   "id": "ba143aba",
   "metadata": {},
   "outputs": [],
   "source": [
    "# if __name__ == \"__main__\":\n",
    "#     app.run(debug=True)"
   ]
  }
 ],
 "metadata": {
  "kernelspec": {
   "display_name": "Python 3",
   "language": "python",
   "name": "python3"
  },
  "language_info": {
   "codemirror_mode": {
    "name": "ipython",
    "version": 3
   },
   "file_extension": ".py",
   "mimetype": "text/x-python",
   "name": "python",
   "nbconvert_exporter": "python",
   "pygments_lexer": "ipython3",
   "version": "3.8.8"
  }
 },
 "nbformat": 4,
 "nbformat_minor": 5
}
